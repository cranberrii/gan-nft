{
  "nbformat": 4,
  "nbformat_minor": 0,
  "metadata": {
    "colab": {
      "name": "train_ganNFT_colab.ipynb",
      "provenance": [],
      "collapsed_sections": []
    },
    "kernelspec": {
      "name": "python3",
      "display_name": "Python 3"
    },
    "language_info": {
      "name": "python"
    },
    "accelerator": "GPU",
    "gpuClass": "standard"
  },
  "cells": [
    {
      "cell_type": "code",
      "source": [
        "%cd /content/drive/MyDrive/Colabs/github/gan-nft"
      ],
      "metadata": {
        "colab": {
          "base_uri": "https://localhost:8080/"
        },
        "id": "ncNVWOUuwfgw",
        "outputId": "2245bb22-d403-4f43-ac10-435544e12bd2"
      },
      "execution_count": null,
      "outputs": [
        {
          "output_type": "stream",
          "name": "stdout",
          "text": [
            "/content/drive/MyDrive/Colabs/github/gan-nft\n"
          ]
        }
      ]
    },
    {
      "cell_type": "code",
      "execution_count": null,
      "metadata": {
        "id": "r8AbH74H21NJ"
      },
      "outputs": [],
      "source": [
        "# !git clone https://github.com/cranberrii/gan-nft.git\n",
        "\n",
        "# %cd gan-nft/"
      ]
    },
    {
      "cell_type": "code",
      "source": [
        "! pip install -r requirements.txt"
      ],
      "metadata": {
        "id": "xFncC3rh3Nr1",
        "colab": {
          "base_uri": "https://localhost:8080/",
          "height": 1000
        },
        "outputId": "9584a4c1-4615-4e55-bf2d-7c122e2f9b09"
      },
      "execution_count": null,
      "outputs": [
        {
          "output_type": "stream",
          "name": "stdout",
          "text": [
            "Looking in indexes: https://pypi.org/simple, https://us-python.pkg.dev/colab-wheels/public/simple/\n",
            "Collecting aiohttp\n",
            "  Downloading aiohttp-3.8.1-cp37-cp37m-manylinux_2_5_x86_64.manylinux1_x86_64.manylinux_2_12_x86_64.manylinux2010_x86_64.whl (1.1 MB)\n",
            "\u001b[K     |████████████████████████████████| 1.1 MB 18.3 MB/s \n",
            "\u001b[?25hCollecting aiofiles\n",
            "  Downloading aiofiles-0.8.0-py3-none-any.whl (13 kB)\n",
            "Collecting datasets\n",
            "  Downloading datasets-2.3.2-py3-none-any.whl (362 kB)\n",
            "\u001b[K     |████████████████████████████████| 362 kB 63.8 MB/s \n",
            "\u001b[?25hCollecting asyncio\n",
            "  Downloading asyncio-3.4.3-py3-none-any.whl (101 kB)\n",
            "\u001b[K     |████████████████████████████████| 101 kB 12.3 MB/s \n",
            "\u001b[?25hRequirement already satisfied: requests in /usr/local/lib/python3.7/dist-packages (from -r requirements.txt (line 5)) (2.23.0)\n",
            "Requirement already satisfied: torch in /usr/local/lib/python3.7/dist-packages (from -r requirements.txt (line 6)) (1.11.0+cu113)\n",
            "Requirement already satisfied: torchvision in /usr/local/lib/python3.7/dist-packages (from -r requirements.txt (line 7)) (0.12.0+cu113)\n",
            "Collecting transformers==4.20.0\n",
            "  Downloading transformers-4.20.0-py3-none-any.whl (4.4 MB)\n",
            "\u001b[K     |████████████████████████████████| 4.4 MB 70.7 MB/s \n",
            "\u001b[?25hCollecting selenium\n",
            "  Downloading selenium-4.3.0-py3-none-any.whl (981 kB)\n",
            "\u001b[K     |████████████████████████████████| 981 kB 53.0 MB/s \n",
            "\u001b[?25hCollecting accelerate\n",
            "  Downloading accelerate-0.10.0-py3-none-any.whl (117 kB)\n",
            "\u001b[K     |████████████████████████████████| 117 kB 78.2 MB/s \n",
            "\u001b[?25hCollecting wandb\n",
            "  Downloading wandb-0.12.21-py2.py3-none-any.whl (1.8 MB)\n",
            "\u001b[K     |████████████████████████████████| 1.8 MB 65.8 MB/s \n",
            "\u001b[?25hCollecting huggingface-hub\n",
            "  Downloading huggingface_hub-0.8.1-py3-none-any.whl (101 kB)\n",
            "\u001b[K     |████████████████████████████████| 101 kB 13.3 MB/s \n",
            "\u001b[?25hRequirement already satisfied: scipy in /usr/local/lib/python3.7/dist-packages (from -r requirements.txt (line 13)) (1.4.1)\n",
            "Collecting kornia\n",
            "  Downloading kornia-0.6.5-py2.py3-none-any.whl (512 kB)\n",
            "\u001b[K     |████████████████████████████████| 512 kB 55.9 MB/s \n",
            "\u001b[?25hCollecting einops\n",
            "  Downloading einops-0.4.1-py3-none-any.whl (28 kB)\n",
            "Collecting adabelief-pytorch\n",
            "  Downloading adabelief_pytorch-0.2.1-py3-none-any.whl (5.8 kB)\n",
            "Collecting pytorch-fid\n",
            "  Downloading pytorch-fid-0.2.1.tar.gz (14 kB)\n",
            "Collecting fire\n",
            "  Downloading fire-0.4.0.tar.gz (87 kB)\n",
            "\u001b[K     |████████████████████████████████| 87 kB 9.1 MB/s \n",
            "\u001b[?25hCollecting retry\n",
            "  Downloading retry-0.9.2-py2.py3-none-any.whl (8.0 kB)\n",
            "Requirement already satisfied: scikit-learn in /usr/local/lib/python3.7/dist-packages (from -r requirements.txt (line 20)) (1.0.2)\n",
            "Requirement already satisfied: filelock in /usr/local/lib/python3.7/dist-packages (from transformers==4.20.0->-r requirements.txt (line 8)) (3.7.1)\n",
            "Collecting tokenizers!=0.11.3,<0.13,>=0.11.1\n",
            "  Downloading tokenizers-0.12.1-cp37-cp37m-manylinux_2_12_x86_64.manylinux2010_x86_64.whl (6.6 MB)\n",
            "\u001b[K     |████████████████████████████████| 6.6 MB 5.1 MB/s \n",
            "\u001b[?25hRequirement already satisfied: packaging>=20.0 in /usr/local/lib/python3.7/dist-packages (from transformers==4.20.0->-r requirements.txt (line 8)) (21.3)\n",
            "Requirement already satisfied: numpy>=1.17 in /usr/local/lib/python3.7/dist-packages (from transformers==4.20.0->-r requirements.txt (line 8)) (1.21.6)\n",
            "Requirement already satisfied: tqdm>=4.27 in /usr/local/lib/python3.7/dist-packages (from transformers==4.20.0->-r requirements.txt (line 8)) (4.64.0)\n",
            "Requirement already satisfied: regex!=2019.12.17 in /usr/local/lib/python3.7/dist-packages (from transformers==4.20.0->-r requirements.txt (line 8)) (2022.6.2)\n",
            "Collecting pyyaml>=5.1\n",
            "  Downloading PyYAML-6.0-cp37-cp37m-manylinux_2_5_x86_64.manylinux1_x86_64.manylinux_2_12_x86_64.manylinux2010_x86_64.whl (596 kB)\n",
            "\u001b[K     |████████████████████████████████| 596 kB 58.3 MB/s \n",
            "\u001b[?25hRequirement already satisfied: importlib-metadata in /usr/local/lib/python3.7/dist-packages (from transformers==4.20.0->-r requirements.txt (line 8)) (4.11.4)\n",
            "Requirement already satisfied: typing-extensions>=3.7.4.3 in /usr/local/lib/python3.7/dist-packages (from huggingface-hub->-r requirements.txt (line 12)) (4.1.1)\n",
            "Requirement already satisfied: pyparsing!=3.0.5,>=2.0.2 in /usr/local/lib/python3.7/dist-packages (from packaging>=20.0->transformers==4.20.0->-r requirements.txt (line 8)) (3.0.9)\n",
            "Requirement already satisfied: charset-normalizer<3.0,>=2.0 in /usr/local/lib/python3.7/dist-packages (from aiohttp->-r requirements.txt (line 1)) (2.0.12)\n",
            "Collecting yarl<2.0,>=1.0\n",
            "  Downloading yarl-1.7.2-cp37-cp37m-manylinux_2_5_x86_64.manylinux1_x86_64.manylinux_2_12_x86_64.manylinux2010_x86_64.whl (271 kB)\n",
            "\u001b[K     |████████████████████████████████| 271 kB 47.4 MB/s \n",
            "\u001b[?25hCollecting aiosignal>=1.1.2\n",
            "  Downloading aiosignal-1.2.0-py3-none-any.whl (8.2 kB)\n",
            "Collecting async-timeout<5.0,>=4.0.0a3\n",
            "  Downloading async_timeout-4.0.2-py3-none-any.whl (5.8 kB)\n",
            "Collecting frozenlist>=1.1.1\n",
            "  Downloading frozenlist-1.3.0-cp37-cp37m-manylinux_2_5_x86_64.manylinux1_x86_64.manylinux_2_17_x86_64.manylinux2014_x86_64.whl (144 kB)\n",
            "\u001b[K     |████████████████████████████████| 144 kB 67.2 MB/s \n",
            "\u001b[?25hRequirement already satisfied: attrs>=17.3.0 in /usr/local/lib/python3.7/dist-packages (from aiohttp->-r requirements.txt (line 1)) (21.4.0)\n",
            "Collecting asynctest==0.13.0\n",
            "  Downloading asynctest-0.13.0-py3-none-any.whl (26 kB)\n",
            "Collecting multidict<7.0,>=4.5\n",
            "  Downloading multidict-6.0.2-cp37-cp37m-manylinux_2_17_x86_64.manylinux2014_x86_64.whl (94 kB)\n",
            "\u001b[K     |████████████████████████████████| 94 kB 4.7 MB/s \n",
            "\u001b[?25hRequirement already satisfied: idna>=2.0 in /usr/local/lib/python3.7/dist-packages (from yarl<2.0,>=1.0->aiohttp->-r requirements.txt (line 1)) (2.10)\n",
            "Requirement already satisfied: pandas in /usr/local/lib/python3.7/dist-packages (from datasets->-r requirements.txt (line 3)) (1.3.5)\n",
            "Requirement already satisfied: dill<0.3.6 in /usr/local/lib/python3.7/dist-packages (from datasets->-r requirements.txt (line 3)) (0.3.5.1)\n",
            "Collecting xxhash\n",
            "  Downloading xxhash-3.0.0-cp37-cp37m-manylinux_2_17_x86_64.manylinux2014_x86_64.whl (212 kB)\n",
            "\u001b[K     |████████████████████████████████| 212 kB 73.4 MB/s \n",
            "\u001b[?25hCollecting fsspec[http]>=2021.05.0\n",
            "  Downloading fsspec-2022.5.0-py3-none-any.whl (140 kB)\n",
            "\u001b[K     |████████████████████████████████| 140 kB 67.0 MB/s \n",
            "\u001b[?25hRequirement already satisfied: multiprocess in /usr/local/lib/python3.7/dist-packages (from datasets->-r requirements.txt (line 3)) (0.70.13)\n",
            "Requirement already satisfied: pyarrow>=6.0.0 in /usr/local/lib/python3.7/dist-packages (from datasets->-r requirements.txt (line 3)) (6.0.1)\n",
            "Collecting responses<0.19\n",
            "  Downloading responses-0.18.0-py3-none-any.whl (38 kB)\n",
            "Requirement already satisfied: urllib3!=1.25.0,!=1.25.1,<1.26,>=1.21.1 in /usr/local/lib/python3.7/dist-packages (from requests->-r requirements.txt (line 5)) (1.24.3)\n",
            "Requirement already satisfied: certifi>=2017.4.17 in /usr/local/lib/python3.7/dist-packages (from requests->-r requirements.txt (line 5)) (2022.6.15)\n",
            "Requirement already satisfied: chardet<4,>=3.0.2 in /usr/local/lib/python3.7/dist-packages (from requests->-r requirements.txt (line 5)) (3.0.4)\n",
            "Collecting urllib3!=1.25.0,!=1.25.1,<1.26,>=1.21.1\n",
            "  Downloading urllib3-1.25.11-py2.py3-none-any.whl (127 kB)\n",
            "\u001b[K     |████████████████████████████████| 127 kB 77.3 MB/s \n",
            "\u001b[?25hRequirement already satisfied: pillow!=8.3.*,>=5.3.0 in /usr/local/lib/python3.7/dist-packages (from torchvision->-r requirements.txt (line 7)) (7.1.2)\n",
            "Collecting trio-websocket~=0.9\n",
            "  Downloading trio_websocket-0.9.2-py3-none-any.whl (16 kB)\n",
            "Collecting urllib3[secure,socks]~=1.26\n",
            "  Downloading urllib3-1.26.9-py2.py3-none-any.whl (138 kB)\n",
            "\u001b[K     |████████████████████████████████| 138 kB 82.0 MB/s \n",
            "\u001b[?25hCollecting trio~=0.17\n",
            "  Downloading trio-0.21.0-py3-none-any.whl (358 kB)\n",
            "\u001b[K     |████████████████████████████████| 358 kB 68.3 MB/s \n",
            "\u001b[?25hCollecting outcome\n",
            "  Downloading outcome-1.2.0-py2.py3-none-any.whl (9.7 kB)\n",
            "Requirement already satisfied: sortedcontainers in /usr/local/lib/python3.7/dist-packages (from trio~=0.17->selenium->-r requirements.txt (line 9)) (2.4.0)\n",
            "Collecting sniffio\n",
            "  Downloading sniffio-1.2.0-py3-none-any.whl (10 kB)\n",
            "Collecting async-generator>=1.9\n",
            "  Downloading async_generator-1.10-py3-none-any.whl (18 kB)\n",
            "Collecting wsproto>=0.14\n",
            "  Downloading wsproto-1.1.0-py3-none-any.whl (24 kB)\n",
            "Collecting urllib3[secure,socks]~=1.26\n",
            "  Downloading urllib3-1.26.8-py2.py3-none-any.whl (138 kB)\n",
            "\u001b[K     |████████████████████████████████| 138 kB 1.0 MB/s \n",
            "\u001b[?25h  Downloading urllib3-1.26.7-py2.py3-none-any.whl (138 kB)\n",
            "\u001b[K     |████████████████████████████████| 138 kB 81.5 MB/s \n",
            "\u001b[?25h  Downloading urllib3-1.26.6-py2.py3-none-any.whl (138 kB)\n",
            "\u001b[K     |████████████████████████████████| 138 kB 80.1 MB/s \n",
            "\u001b[?25h  Downloading urllib3-1.26.5-py2.py3-none-any.whl (138 kB)\n",
            "\u001b[K     |████████████████████████████████| 138 kB 65.3 MB/s \n",
            "\u001b[?25h  Downloading urllib3-1.26.4-py2.py3-none-any.whl (153 kB)\n",
            "\u001b[K     |████████████████████████████████| 153 kB 81.4 MB/s \n",
            "\u001b[?25h  Downloading urllib3-1.26.3-py2.py3-none-any.whl (137 kB)\n",
            "\u001b[K     |████████████████████████████████| 137 kB 67.5 MB/s \n",
            "\u001b[?25h  Downloading urllib3-1.26.2-py2.py3-none-any.whl (136 kB)\n",
            "\u001b[K     |████████████████████████████████| 136 kB 79.5 MB/s \n",
            "\u001b[?25h  Downloading urllib3-1.26.1-py2.py3-none-any.whl (136 kB)\n",
            "\u001b[K     |████████████████████████████████| 136 kB 78.7 MB/s \n",
            "\u001b[?25h  Downloading urllib3-1.26.0-py2.py3-none-any.whl (136 kB)\n",
            "\u001b[K     |████████████████████████████████| 136 kB 76.8 MB/s \n",
            "\u001b[?25hINFO: pip is looking at multiple versions of trio-websocket to determine which version is compatible with other requirements. This could take a while.\n",
            "Collecting trio-websocket~=0.9\n",
            "  Downloading trio_websocket-0.9.1-py3-none-any.whl (16 kB)\n",
            "  Downloading trio_websocket-0.9.0-py3-none-any.whl (16 kB)\n",
            "INFO: pip is looking at multiple versions of async-generator to determine which version is compatible with other requirements. This could take a while.\n",
            "Collecting async-generator>=1.9\n",
            "  Downloading async_generator-1.9-py3-none-any.whl (18 kB)\n",
            "INFO: pip is looking at multiple versions of trio to determine which version is compatible with other requirements. This could take a while.\n",
            "Collecting trio~=0.17\n",
            "  Downloading trio-0.20.0-py3-none-any.whl (359 kB)\n",
            "\u001b[K     |████████████████████████████████| 359 kB 80.2 MB/s \n",
            "\u001b[?25h  Downloading trio-0.19.0-py3-none-any.whl (356 kB)\n",
            "\u001b[K     |████████████████████████████████| 356 kB 62.1 MB/s \n",
            "\u001b[?25hINFO: pip is looking at multiple versions of trio-websocket to determine which version is compatible with other requirements. This could take a while.\n",
            "  Downloading trio-0.18.0-py3-none-any.whl (354 kB)\n",
            "\u001b[K     |████████████████████████████████| 354 kB 37.1 MB/s \n",
            "\u001b[?25hINFO: pip is looking at multiple versions of async-generator to determine which version is compatible with other requirements. This could take a while.\n",
            "  Downloading trio-0.17.0-py3-none-any.whl (354 kB)\n",
            "\u001b[K     |████████████████████████████████| 354 kB 77.3 MB/s \n",
            "\u001b[?25hINFO: This is taking longer than usual. You might need to provide the dependency resolver with stricter constraints to reduce runtime. If you want to abort this run, you can press Ctrl + C to do so. To improve how pip performs, tell us what happened here: https://pip.pypa.io/surveys/backtracking\n",
            "INFO: pip is looking at multiple versions of selenium to determine which version is compatible with other requirements. This could take a while.\n",
            "Collecting selenium\n",
            "  Downloading selenium-4.2.0-py3-none-any.whl (983 kB)\n",
            "\u001b[K     |████████████████████████████████| 983 kB 64.4 MB/s \n",
            "\u001b[?25hINFO: This is taking longer than usual. You might need to provide the dependency resolver with stricter constraints to reduce runtime. If you want to abort this run, you can press Ctrl + C to do so. To improve how pip performs, tell us what happened here: https://pip.pypa.io/surveys/backtracking\n",
            "INFO: pip is looking at multiple versions of trio to determine which version is compatible with other requirements. This could take a while.\n",
            "  Downloading selenium-4.1.5-py3-none-any.whl (979 kB)\n",
            "\u001b[K     |████████████████████████████████| 979 kB 64.3 MB/s \n",
            "\u001b[?25hINFO: This is taking longer than usual. You might need to provide the dependency resolver with stricter constraints to reduce runtime. If you want to abort this run, you can press Ctrl + C to do so. To improve how pip performs, tell us what happened here: https://pip.pypa.io/surveys/backtracking\n",
            "  Downloading selenium-4.1.4-py3-none-any.whl (979 kB)\n",
            "\u001b[K     |████████████████████████████████| 979 kB 60.7 MB/s \n",
            "\u001b[?25h  Downloading selenium-4.1.3-py3-none-any.whl (968 kB)\n",
            "\u001b[K     |████████████████████████████████| 968 kB 60.5 MB/s \n",
            "\u001b[?25h  Downloading selenium-4.1.2-py3-none-any.whl (963 kB)\n",
            "\u001b[K     |████████████████████████████████| 963 kB 65.7 MB/s \n",
            "\u001b[?25h  Downloading selenium-4.1.1-py3-none-any.whl (963 kB)\n",
            "\u001b[K     |████████████████████████████████| 963 kB 56.5 MB/s \n",
            "\u001b[?25h  Downloading selenium-4.1.0-py3-none-any.whl (958 kB)\n",
            "\u001b[K     |████████████████████████████████| 958 kB 645 kB/s \n",
            "\u001b[?25hINFO: pip is looking at multiple versions of selenium to determine which version is compatible with other requirements. This could take a while.\n",
            "  Downloading selenium-4.0.0-py3-none-any.whl (954 kB)\n",
            "\u001b[K     |████████████████████████████████| 954 kB 62.5 MB/s \n",
            "\u001b[?25h  Downloading selenium-3.141.0-py2.py3-none-any.whl (904 kB)\n",
            "\u001b[K     |████████████████████████████████| 904 kB 65.1 MB/s \n",
            "\u001b[?25hRequirement already satisfied: psutil in /usr/local/lib/python3.7/dist-packages (from accelerate->-r requirements.txt (line 10)) (5.4.8)\n",
            "Collecting setproctitle\n",
            "  Downloading setproctitle-1.2.3-cp37-cp37m-manylinux_2_5_x86_64.manylinux1_x86_64.manylinux_2_17_x86_64.manylinux2014_x86_64.whl (29 kB)\n",
            "Requirement already satisfied: Click!=8.0.0,>=7.0 in /usr/local/lib/python3.7/dist-packages (from wandb->-r requirements.txt (line 11)) (7.1.2)\n",
            "Requirement already satisfied: six>=1.13.0 in /usr/local/lib/python3.7/dist-packages (from wandb->-r requirements.txt (line 11)) (1.15.0)\n",
            "Requirement already satisfied: protobuf<4.0dev,>=3.12.0 in /usr/local/lib/python3.7/dist-packages (from wandb->-r requirements.txt (line 11)) (3.17.3)\n",
            "Requirement already satisfied: setuptools in /usr/local/lib/python3.7/dist-packages (from wandb->-r requirements.txt (line 11)) (57.4.0)\n",
            "Requirement already satisfied: promise<3,>=2.0 in /usr/local/lib/python3.7/dist-packages (from wandb->-r requirements.txt (line 11)) (2.3)\n",
            "Collecting sentry-sdk>=1.0.0\n",
            "  Downloading sentry_sdk-1.6.0-py2.py3-none-any.whl (145 kB)\n",
            "\u001b[K     |████████████████████████████████| 145 kB 76.4 MB/s \n",
            "\u001b[?25hCollecting shortuuid>=0.5.0\n",
            "  Downloading shortuuid-1.0.9-py3-none-any.whl (9.4 kB)\n",
            "Collecting GitPython>=1.0.0\n",
            "  Downloading GitPython-3.1.27-py3-none-any.whl (181 kB)\n",
            "\u001b[K     |████████████████████████████████| 181 kB 78.7 MB/s \n",
            "\u001b[?25hCollecting docker-pycreds>=0.4.0\n",
            "  Downloading docker_pycreds-0.4.0-py2.py3-none-any.whl (9.0 kB)\n",
            "Collecting pathtools\n",
            "  Downloading pathtools-0.1.2.tar.gz (11 kB)\n",
            "Collecting gitdb<5,>=4.0.1\n",
            "  Downloading gitdb-4.0.9-py3-none-any.whl (63 kB)\n",
            "\u001b[K     |████████████████████████████████| 63 kB 2.1 MB/s \n",
            "\u001b[?25hCollecting smmap<6,>=3.0.1\n",
            "  Downloading smmap-5.0.0-py3-none-any.whl (24 kB)\n",
            "Collecting colorama>=0.4.0\n",
            "  Downloading colorama-0.4.5-py2.py3-none-any.whl (16 kB)\n",
            "Requirement already satisfied: tabulate>=0.7 in /usr/local/lib/python3.7/dist-packages (from adabelief-pytorch->-r requirements.txt (line 16)) (0.8.9)\n",
            "Requirement already satisfied: termcolor in /usr/local/lib/python3.7/dist-packages (from fire->-r requirements.txt (line 18)) (1.1.0)\n",
            "Requirement already satisfied: decorator>=3.4.2 in /usr/local/lib/python3.7/dist-packages (from retry->-r requirements.txt (line 19)) (4.4.2)\n",
            "Requirement already satisfied: py<2.0.0,>=1.4.26 in /usr/local/lib/python3.7/dist-packages (from retry->-r requirements.txt (line 19)) (1.11.0)\n",
            "Requirement already satisfied: joblib>=0.11 in /usr/local/lib/python3.7/dist-packages (from scikit-learn->-r requirements.txt (line 20)) (1.1.0)\n",
            "Requirement already satisfied: threadpoolctl>=2.0.0 in /usr/local/lib/python3.7/dist-packages (from scikit-learn->-r requirements.txt (line 20)) (3.1.0)\n",
            "Requirement already satisfied: zipp>=0.5 in /usr/local/lib/python3.7/dist-packages (from importlib-metadata->transformers==4.20.0->-r requirements.txt (line 8)) (3.8.0)\n",
            "Requirement already satisfied: pytz>=2017.3 in /usr/local/lib/python3.7/dist-packages (from pandas->datasets->-r requirements.txt (line 3)) (2022.1)\n",
            "Requirement already satisfied: python-dateutil>=2.7.3 in /usr/local/lib/python3.7/dist-packages (from pandas->datasets->-r requirements.txt (line 3)) (2.8.2)\n",
            "Building wheels for collected packages: pytorch-fid, fire, pathtools\n",
            "  Building wheel for pytorch-fid (setup.py) ... \u001b[?25l\u001b[?25hdone\n",
            "  Created wheel for pytorch-fid: filename=pytorch_fid-0.2.1-py3-none-any.whl size=14835 sha256=d6a71f8849b59f271425b824a4ef2c893c92ac9c531a9a18c00206136afa1f9e\n",
            "  Stored in directory: /root/.cache/pip/wheels/24/ac/03/c5634775c8a64f702343ef5923278f8d3bb8c651debc4a6890\n",
            "  Building wheel for fire (setup.py) ... \u001b[?25l\u001b[?25hdone\n",
            "  Created wheel for fire: filename=fire-0.4.0-py2.py3-none-any.whl size=115942 sha256=8d9b78036d2b6f38defab2cdf7306fb7b4c484f624e5fa0f56f2b37910e5bada\n",
            "  Stored in directory: /root/.cache/pip/wheels/8a/67/fb/2e8a12fa16661b9d5af1f654bd199366799740a85c64981226\n",
            "  Building wheel for pathtools (setup.py) ... \u001b[?25l\u001b[?25hdone\n",
            "  Created wheel for pathtools: filename=pathtools-0.1.2-py3-none-any.whl size=8806 sha256=1875a026ceb6eeffba8c732f42ef264f34a43d8af4a6385b42970180736f94dd\n",
            "  Stored in directory: /root/.cache/pip/wheels/3e/31/09/fa59cef12cdcfecc627b3d24273699f390e71828921b2cbba2\n",
            "Successfully built pytorch-fid fire pathtools\n",
            "Installing collected packages: multidict, frozenlist, yarl, urllib3, smmap, asynctest, async-timeout, aiosignal, pyyaml, gitdb, fsspec, aiohttp, xxhash, tokenizers, shortuuid, setproctitle, sentry-sdk, responses, pathtools, huggingface-hub, GitPython, docker-pycreds, colorama, wandb, transformers, selenium, retry, pytorch-fid, kornia, fire, einops, datasets, asyncio, aiofiles, adabelief-pytorch, accelerate\n",
            "  Attempting uninstall: urllib3\n",
            "    Found existing installation: urllib3 1.24.3\n",
            "    Uninstalling urllib3-1.24.3:\n",
            "      Successfully uninstalled urllib3-1.24.3\n",
            "  Attempting uninstall: pyyaml\n",
            "    Found existing installation: PyYAML 3.13\n",
            "    Uninstalling PyYAML-3.13:\n",
            "      Successfully uninstalled PyYAML-3.13\n",
            "\u001b[31mERROR: pip's dependency resolver does not currently take into account all the packages that are installed. This behaviour is the source of the following dependency conflicts.\n",
            "datascience 0.10.6 requires folium==0.2.1, but you have folium 0.8.3 which is incompatible.\u001b[0m\n",
            "Successfully installed GitPython-3.1.27 accelerate-0.10.0 adabelief-pytorch-0.2.1 aiofiles-0.8.0 aiohttp-3.8.1 aiosignal-1.2.0 async-timeout-4.0.2 asyncio-3.4.3 asynctest-0.13.0 colorama-0.4.5 datasets-2.3.2 docker-pycreds-0.4.0 einops-0.4.1 fire-0.4.0 frozenlist-1.3.0 fsspec-2022.5.0 gitdb-4.0.9 huggingface-hub-0.8.1 kornia-0.6.5 multidict-6.0.2 pathtools-0.1.2 pytorch-fid-0.2.1 pyyaml-6.0 responses-0.18.0 retry-0.9.2 selenium-3.141.0 sentry-sdk-1.6.0 setproctitle-1.2.3 shortuuid-1.0.9 smmap-5.0.0 tokenizers-0.12.1 transformers-4.20.0 urllib3-1.25.11 wandb-0.12.21 xxhash-3.0.0 yarl-1.7.2\n"
          ]
        },
        {
          "output_type": "display_data",
          "data": {
            "application/vnd.colab-display-data+json": {
              "pip_warning": {
                "packages": [
                  "asyncio"
                ]
              }
            }
          },
          "metadata": {}
        }
      ]
    },
    {
      "cell_type": "code",
      "source": [
        "import os\n",
        "\n",
        "!echo $PYTHONPATH\n",
        "\n",
        "# %env PYTHONPATH=\"$/env/python:/content/drive/MyDrive/Colabs/github/gan-nft\"\n",
        "os.environ['PYTHONPATH'] += \":/content/drive/MyDrive/Colabs/github/gan-nft\"\n",
        "\n",
        "!echo $PYTHONPATH"
      ],
      "metadata": {
        "colab": {
          "base_uri": "https://localhost:8080/"
        },
        "id": "1YZWZ5JK7eWm",
        "outputId": "da351f53-f0f6-4ae7-be6d-cd0f48b7aa23"
      },
      "execution_count": null,
      "outputs": [
        {
          "output_type": "stream",
          "name": "stdout",
          "text": [
            "/env/python\n",
            "/env/python:/content/drive/MyDrive/Colabs/github/gan-nft\n"
          ]
        }
      ]
    },
    {
      "cell_type": "code",
      "source": [
        "import wandb\n",
        "import getpass\n",
        "\n",
        "from secret import WNB_KEY\n",
        "\n",
        "# wandb_api_key = getpass.getpass()\n",
        "\n",
        "os.environ['WANDB_API_KEY'] = WNB_KEY"
      ],
      "metadata": {
        "id": "0SvwGJ_241Tp"
      },
      "execution_count": null,
      "outputs": []
    },
    {
      "cell_type": "code",
      "source": [
        "!accelerate config"
      ],
      "metadata": {
        "colab": {
          "base_uri": "https://localhost:8080/"
        },
        "id": "f2U1fzX44_B5",
        "outputId": "efd43649-42b1-4911-fb5c-62399a3af2ce"
      },
      "execution_count": null,
      "outputs": [
        {
          "output_type": "stream",
          "name": "stdout",
          "text": [
            "In which compute environment are you running? ([0] This machine, [1] AWS (Amazon SageMaker)): 0\n",
            "Which type of machine are you using? ([0] No distributed training, [1] multi-CPU, [2] multi-GPU, [3] TPU): 0\n",
            "Do you want to run your training on CPU only (even if a GPU is available)? [yes/NO]:0\n",
            "Please enter yes or no.\n",
            "Do you want to run your training on CPU only (even if a GPU is available)? [yes/NO]:no\n",
            "Do you want to use DeepSpeed? [yes/NO]: no\n",
            "Do you wish to use FP16 or BF16 (mixed precision)? [NO/fp16/bf16]: no\n"
          ]
        }
      ]
    },
    {
      "cell_type": "code",
      "source": [
        "#@markdown NFT collection:\n",
        "collection_name = \"cryptopunks\" #@param {type:\"string\"}\n",
        "#@markdown Save results to:\n",
        "results_dir = \"huggnft-colab-default\" #@param {type:\"string\"}\n",
        "#@markdown Number of steps to train the model:\n",
        "num_train_steps = 2000 #@param {type:\"integer\"}\n",
        "#@markdown Upload model each `save_every` steps:\n",
        "save_every =  1000 #@param {type:\"integer\"}\n",
        "#@markdown Evaluate model every steps:\n",
        "eval_every =  400 #@param {type:\"integer\"}\n",
        "#@markdown Image size to scale original ones (initial `image_size` will be applied for existing models):\n",
        "image_size = \"256\" #@param [\"32\", \"64\", \"128\", \"256\", \"512\", \"1024\", \"2048\"]\n",
        "image_size = int(image_size)\n",
        "#@markdown Batch size (default 10):\n",
        "batch_size =   4#@param {type:\"integer\"}\n",
        "#@markdown Learning rate (default 2e-4):\n",
        "learning_rate =  0.0001 #@param {type:\"number\"}\n",
        "\n",
        "#   \n",
        "\n",
        "\n",
        "!accelerate launch huggingnft/huggingnft/lightweight_gan/train.py \\\n",
        "  --wandb \\\n",
        "  --image_size $image_size \\\n",
        "  --num_train_steps $num_train_steps \\\n",
        "  --save_every $save_every \\\n",
        "  --dataset_name huggingnft/$collection_name \\\n",
        "  --name test_$collection_name \\\n",
        "  --results_dir $results_dir \\\n",
        "  --evaluate_every $eval_every \\\n",
        "  --batch_size $batch_size \\\n",
        "  --learning_rate $learning_rate \\\n",
        "  --load_from 9000\n"
      ],
      "metadata": {
        "colab": {
          "base_uri": "https://localhost:8080/"
        },
        "id": "P4ROZmID5CWO",
        "outputId": "1bccc91c-a32c-4b4f-bb74-78cafc607e1d"
      },
      "execution_count": null,
      "outputs": [
        {
          "output_type": "stream",
          "name": "stdout",
          "text": [
            "\rtest_cryptopunks<./data>:   0% 0/2000 [00:00<?, ?it/s]\u001b[34m\u001b[1mwandb\u001b[0m: Currently logged in as: \u001b[33mjermyn\u001b[0m. Use \u001b[1m`wandb login --relogin`\u001b[0m to force relogin\n",
            "\u001b[34m\u001b[1mwandb\u001b[0m: Tracking run with wandb version 0.12.21\n",
            "\u001b[34m\u001b[1mwandb\u001b[0m: Run data is saved locally in \u001b[35m\u001b[1m/content/drive/MyDrive/Colabs/github/gan-nft/wandb/run-20220707_132902-37wyoski\u001b[0m\n",
            "\u001b[34m\u001b[1mwandb\u001b[0m: Run \u001b[1m`wandb offline`\u001b[0m to turn off syncing.\n",
            "\u001b[34m\u001b[1mwandb\u001b[0m: Syncing run \u001b[33mpretty-dawn-6\u001b[0m\n",
            "\u001b[34m\u001b[1mwandb\u001b[0m: ⭐️ View project at \u001b[34m\u001b[4mhttps://wandb.ai/jermyn/huggnft-colab-default\u001b[0m\n",
            "\u001b[34m\u001b[1mwandb\u001b[0m: 🚀 View run at \u001b[34m\u001b[4mhttps://wandb.ai/jermyn/huggnft-colab-default/runs/37wyoski\u001b[0m\n",
            "\n",
            "Downloading: 100% 848/848 [00:00<00:00, 694kB/s]\n",
            "Using custom data configuration huggingnft--cryptopunks-8db96f86fcb7d7e4\n",
            "Downloading and preparing dataset image_folder/default (download: 11.57 MiB, generated: 15.49 MiB, post-processed: Unknown size, total: 27.06 MiB) to /root/.cache/huggingface/datasets/huggingnft___parquet/huggingnft--cryptopunks-8db96f86fcb7d7e4/0.0.0/7328ef7ee03eaf3f86ae40594d46a1cec86161704e02dd19f232d81eee72ade8...\n",
            "\n",
            "Downloading data files:   0% 0/1 [00:00<?, ?it/s]\u001b[A\n",
            "\n",
            "Downloading data:   0% 0.00/12.1M [00:00<?, ?B/s]\u001b[A\u001b[A\n",
            "\n",
            "Downloading data: 100% 12.1M/12.1M [00:00<00:00, 71.3MB/s]\n",
            "\n",
            "Downloading data files: 100% 1/1 [00:02<00:00,  2.98s/it]\n",
            "\n",
            "Extracting data files: 100% 1/1 [00:00<00:00, 972.93it/s]\n",
            "\n",
            "0 tables [00:00, ? tables/s]\u001b[A\n",
            "1 tables [00:00,  8.53 tables/s]\u001b[A\n",
            "                                \u001b[A\n",
            "Dataset parquet downloaded and prepared to /root/.cache/huggingface/datasets/huggingnft___parquet/huggingnft--cryptopunks-8db96f86fcb7d7e4/0.0.0/7328ef7ee03eaf3f86ae40594d46a1cec86161704e02dd19f232d81eee72ade8. Subsequent calls will reuse this data.\n",
            "100% 1/1 [00:00<00:00, 195.79it/s]\n",
            "Parameter 'transform'=<function Trainer.set_data_src.<locals>.transform_images at 0x7fec115fda70> of the transform datasets.arrow_dataset.Dataset.set_format couldn't be hashed properly, a random hash was used instead. Make sure your transforms and parameters are serializable with pickle or dill for the dataset fingerprinting and caching to work. If you reuse this transform, the caching mechanism will consider it to be different from the previous calls and recompute everything. This warning is only showed once. Subsequent hashing failures won't be showed.\n",
            "autosetting augmentation probability to 30%\n",
            "using torch device: cuda\n",
            "test_cryptopunks<./data>:   2% 50/2000 [01:43<1:07:13,  2.07s/it]G: 3.37 | D: 0.07 | GP: 0.02 | SS: 0.01\n",
            "test_cryptopunks<./data>:   5% 100/2000 [02:55<55:38,  1.76s/it]G: 2.86 | D: 0.24 | GP: 0.07 | SS: 0.01\n",
            "using torch device: cuda\n",
            "test_cryptopunks<./data>:   8% 150/2000 [04:10<51:24,  1.67s/it]G: 2.17 | D: 0.03 | GP: 0.28 | SS: 0.00\n",
            "test_cryptopunks<./data>:  10% 200/2000 [05:22<48:18,  1.61s/it]G: 1.83 | D: 0.10 | GP: 0.03 | SS: 0.00\n",
            "using torch device: cuda\n",
            "test_cryptopunks<./data>:  12% 250/2000 [06:36<46:14,  1.59s/it]G: 2.59 | D: 0.08 | GP: 0.24 | SS: 0.00\n",
            "test_cryptopunks<./data>:  15% 300/2000 [07:48<44:14,  1.56s/it]G: 2.08 | D: 0.05 | GP: 0.25 | SS: 0.00\n",
            "test_cryptopunks<./data>:  15% 301/2000 [07:51<44:23,  1.57s/it]using torch device: cuda\n",
            "test_cryptopunks<./data>:  18% 350/2000 [09:02<42:38,  1.55s/it]G: 2.62 | D: 0.06 | GP: 0.14 | SS: 0.00\n",
            "test_cryptopunks<./data>:  20% 400/2000 [10:14<40:59,  1.54s/it]G: 2.54 | D: 0.06 | GP: 0.24 | SS: 0.00\n",
            "using torch device: cuda\n",
            "test_cryptopunks<./data>:  22% 450/2000 [11:30<39:37,  1.53s/it]G: 2.10 | D: 0.00 | GP: 0.55 | SS: 0.00\n",
            "test_cryptopunks<./data>:  25% 500/2000 [12:42<38:06,  1.52s/it]G: 2.13 | D: 0.11 | GP: 0.07 | SS: 0.00\n",
            "using torch device: cuda\n",
            "test_cryptopunks<./data>:  28% 550/2000 [13:56<36:45,  1.52s/it]G: 1.15 | D: 0.01 | GP: 0.44 | SS: 0.01\n",
            "test_cryptopunks<./data>:  30% 600/2000 [15:08<35:20,  1.51s/it]G: 3.19 | D: 0.00 | GP: 0.13 | SS: 0.00\n",
            "using torch device: cuda\n",
            "test_cryptopunks<./data>:  32% 650/2000 [16:23<34:01,  1.51s/it]G: 2.35 | D: 0.02 | GP: 0.10 | SS: 0.00\n",
            "test_cryptopunks<./data>:  35% 700/2000 [17:35<32:39,  1.51s/it]G: 1.30 | D: 0.19 | GP: 0.03 | SS: 0.00\n",
            "using torch device: cuda\n",
            "test_cryptopunks<./data>:  38% 750/2000 [18:49<31:22,  1.51s/it]G: 2.26 | D: 0.13 | GP: 0.03 | SS: 0.00\n",
            "test_cryptopunks<./data>:  40% 800/2000 [20:01<30:01,  1.50s/it]G: 2.25 | D: 0.24 | GP: 0.10 | SS: 0.01\n",
            "using torch device: cuda\n",
            "test_cryptopunks<./data>:  42% 850/2000 [21:16<28:47,  1.50s/it]G: 2.22 | D: 0.12 | GP: 0.13 | SS: 0.01\n",
            "test_cryptopunks<./data>:  45% 900/2000 [22:28<27:28,  1.50s/it]G: 2.96 | D: 0.02 | GP: 0.02 | SS: 0.00\n",
            "using torch device: cuda\n",
            "test_cryptopunks<./data>:  48% 950/2000 [23:43<26:12,  1.50s/it]G: 2.36 | D: 0.09 | GP: 0.03 | SS: 0.00\n",
            "test_cryptopunks<./data>:  50% 1000/2000 [24:55<24:55,  1.50s/it]G: 2.29 | D: 0.10 | GP: 0.55 | SS: 0.01\n",
            "using torch device: cuda\n",
            "test_cryptopunks<./data>:  52% 1050/2000 [26:11<23:42,  1.50s/it]G: 2.91 | D: 0.20 | GP: 0.12 | SS: 0.01\n",
            "test_cryptopunks<./data>:  55% 1100/2000 [27:23<22:24,  1.49s/it]G: 2.72 | D: 0.05 | GP: 0.14 | SS: 0.00\n",
            "using torch device: cuda\n",
            "test_cryptopunks<./data>:  57% 1150/2000 [28:38<21:09,  1.49s/it]G: 2.00 | D: 0.15 | GP: 0.29 | SS: 0.00\n",
            "test_cryptopunks<./data>:  60% 1200/2000 [29:50<19:53,  1.49s/it]G: 2.79 | D: 0.06 | GP: 0.07 | SS: 0.00\n",
            "using torch device: cuda\n",
            "test_cryptopunks<./data>:  62% 1249/2000 [31:04<18:41,  1.49s/it]G: 1.05 | D: 0.46 | GP: 0.51 | SS: 0.00\n",
            "test_cryptopunks<./data>:  65% 1300/2000 [32:17<17:23,  1.49s/it]G: 2.24 | D: 0.15 | GP: 0.15 | SS: 0.00\n",
            "using torch device: cuda\n",
            "test_cryptopunks<./data>:  68% 1350/2000 [33:32<16:08,  1.49s/it]G: 2.62 | D: 0.10 | GP: 0.11 | SS: 0.00\n",
            "test_cryptopunks<./data>:  70% 1400/2000 [34:44<14:53,  1.49s/it]G: 3.11 | D: 0.00 | GP: 0.01 | SS: 0.00\n",
            "using torch device: cuda\n",
            "test_cryptopunks<./data>:  72% 1450/2000 [35:58<13:38,  1.49s/it]G: 2.08 | D: 0.03 | GP: 0.21 | SS: 0.00\n",
            "test_cryptopunks<./data>:  75% 1500/2000 [37:10<12:23,  1.49s/it]G: 1.81 | D: 0.02 | GP: 0.20 | SS: 0.00\n",
            "using torch device: cuda\n",
            "test_cryptopunks<./data>:  78% 1550/2000 [38:24<11:09,  1.49s/it]G: 1.05 | D: 0.01 | GP: 0.16 | SS: 0.00\n",
            "test_cryptopunks<./data>:  80% 1600/2000 [39:36<09:54,  1.49s/it]G: 2.66 | D: 0.13 | GP: 0.80 | SS: 0.00\n",
            "using torch device: cuda\n",
            "test_cryptopunks<./data>:  82% 1650/2000 [40:52<08:40,  1.49s/it]G: 2.04 | D: 0.07 | GP: 0.44 | SS: 0.00\n",
            "test_cryptopunks<./data>:  85% 1700/2000 [42:04<07:25,  1.49s/it]G: 2.86 | D: 0.17 | GP: 0.14 | SS: 0.00\n",
            "using torch device: cuda\n",
            "test_cryptopunks<./data>:  88% 1750/2000 [43:18<06:11,  1.49s/it]G: 3.60 | D: 0.08 | GP: 0.21 | SS: 0.00\n",
            "test_cryptopunks<./data>:  90% 1800/2000 [44:30<04:56,  1.48s/it]G: 2.23 | D: 0.07 | GP: 0.17 | SS: 0.01\n",
            "using torch device: cuda\n",
            "test_cryptopunks<./data>:  92% 1850/2000 [45:45<03:42,  1.48s/it]G: 2.16 | D: 0.00 | GP: 0.09 | SS: 0.00\n",
            "test_cryptopunks<./data>:  95% 1900/2000 [46:57<02:28,  1.48s/it]G: 3.32 | D: 0.12 | GP: 0.09 | SS: 0.00\n",
            "using torch device: cuda\n",
            "test_cryptopunks<./data>:  98% 1950/2000 [48:11<01:14,  1.48s/it]G: 2.47 | D: 0.26 | GP: 0.19 | SS: 0.00\n",
            "test_cryptopunks<./data>: 100% 2000/2000 [49:23<00:00,  1.48s/it]G: 3.99 | D: 0.24 | GP: 0.01 | SS: 0.00\n",
            "test_cryptopunks<./data>: 100% 2000/2000 [49:24<00:00,  1.48s/it]\n",
            "\u001b[34m\u001b[1mwandb\u001b[0m: Waiting for W&B process to finish... \u001b[32m(success).\u001b[0m\n",
            "\u001b[34m\u001b[1mwandb\u001b[0m:                                                                                \n",
            "\u001b[34m\u001b[1mwandb\u001b[0m: \n",
            "\u001b[34m\u001b[1mwandb\u001b[0m: Run history:\n",
            "\u001b[34m\u001b[1mwandb\u001b[0m:  D ▂▅▁▃▂▂▂▂▁▃▁▁▁▄▃▅▃▁▂▂▄▂▃▂█▃▂▁▂▁▁▃▂▄▂▂▁▃▅▅\n",
            "\u001b[34m\u001b[1mwandb\u001b[0m:  G ▇▅▄▃▅▃▅▅▄▄▁▆▄▂▄▄▄▆▄▄▅▅▃▅▁▄▅▆▃▃▁▅▃▅▇▄▄▆▄█\n",
            "\u001b[34m\u001b[1mwandb\u001b[0m: GP ▁▁▃▁▃▃▂▃▆▂▅▂▂▁▁▂▂▁▁▆▂▂▃▁▅▂▂▁▃▃▂█▅▂▃▂▂▂▃▁\n",
            "\u001b[34m\u001b[1mwandb\u001b[0m: SS ▇▅▁▁▂▁▁▁▂▁▇▂▁▁▁▆▆▁▁▆▅▂▁▁▁▁▁▁▁▂▁▁▄▁▅█▁▁▄▁\n",
            "\u001b[34m\u001b[1mwandb\u001b[0m: \n",
            "\u001b[34m\u001b[1mwandb\u001b[0m: Run summary:\n",
            "\u001b[34m\u001b[1mwandb\u001b[0m:  D 0.23688\n",
            "\u001b[34m\u001b[1mwandb\u001b[0m:  G 3.9851\n",
            "\u001b[34m\u001b[1mwandb\u001b[0m: GP 0.01041\n",
            "\u001b[34m\u001b[1mwandb\u001b[0m: SS 0.00042\n",
            "\u001b[34m\u001b[1mwandb\u001b[0m: \n",
            "\u001b[34m\u001b[1mwandb\u001b[0m: Synced \u001b[33mpretty-dawn-6\u001b[0m: \u001b[34m\u001b[4mhttps://wandb.ai/jermyn/huggnft-colab-default/runs/37wyoski\u001b[0m\n",
            "\u001b[34m\u001b[1mwandb\u001b[0m: Synced 5 W&B file(s), 40 media file(s), 0 artifact file(s) and 0 other file(s)\n",
            "\u001b[34m\u001b[1mwandb\u001b[0m: Find logs at: \u001b[35m\u001b[1m./wandb/run-20220707_132902-37wyoski/logs\u001b[0m\n"
          ]
        }
      ]
    },
    {
      "cell_type": "code",
      "source": [
        ""
      ],
      "metadata": {
        "id": "mjkEX3ytxoSA"
      },
      "execution_count": null,
      "outputs": []
    },
    {
      "cell_type": "markdown",
      "source": [
        "### experiments"
      ],
      "metadata": {
        "id": "YaI-3PDXxqCk"
      }
    },
    {
      "cell_type": "code",
      "source": [
        "!pwd"
      ],
      "metadata": {
        "colab": {
          "base_uri": "https://localhost:8080/"
        },
        "id": "N2u_0O_a7Vr4",
        "outputId": "50c1b07b-8803-4fae-f369-ce25cb8d2176"
      },
      "execution_count": null,
      "outputs": [
        {
          "output_type": "stream",
          "name": "stdout",
          "text": [
            "/content/drive/MyDrive/Colabs/github/gan-nft\n"
          ]
        }
      ]
    },
    {
      "cell_type": "code",
      "source": [
        ""
      ],
      "metadata": {
        "id": "Iz4o6e8X7bq0"
      },
      "execution_count": null,
      "outputs": []
    }
  ]
}